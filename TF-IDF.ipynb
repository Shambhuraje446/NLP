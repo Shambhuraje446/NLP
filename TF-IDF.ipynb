{
 "cells": [
  {
   "cell_type": "code",
   "execution_count": 3,
   "id": "ee973edc",
   "metadata": {},
   "outputs": [
    {
     "name": "stdout",
     "output_type": "stream",
     "text": [
      "Top Words: ['the', 'on', 'cat', 'is', 'sleeping', 'warm', 'couch', 'i']\n",
      "Term Frequency:\n",
      "{'the': [0.25, 0.0, 0.125], 'on': [0.125, 0.125, 0.0], 'cat': [0.125, 0.0, 0.0], 'is': [0.125, 0.0, 0.0], 'sleeping': [0.125, 0.0, 0.0], 'warm': [0.125, 0.0, 0.0], 'couch': [0.125, 0.0, 0.0], 'i': [0.0, 0.125, 0.0]}\n",
      "Inverse Document Frequency:\n",
      "{'the': 0.4054651081081644, 'on': 0.4054651081081644, 'cat': 1.0986122886681098, 'is': 1.0986122886681098, 'sleeping': 1.0986122886681098, 'warm': 1.0986122886681098, 'couch': 1.0986122886681098, 'i': 1.0986122886681098}\n",
      "TF-IDF Values:\n",
      "[[0.1013662770270411, 0.0, 0.05068313851352055], [0.05068313851352055, 0.05068313851352055, 0.0], [0.13732653608351372, 0.0, 0.0], [0.13732653608351372, 0.0, 0.0], [0.13732653608351372, 0.0, 0.0], [0.13732653608351372, 0.0, 0.0], [0.13732653608351372, 0.0, 0.0], [0.0, 0.13732653608351372, 0.0]]\n"
     ]
    }
   ],
   "source": [
    "import nltk\n",
    "import numpy as np\n",
    "import re\n",
    "\n",
    "# Input sentences\n",
    "sentence1 = \"The cat is sleeping on the warm couch\"\n",
    "sentence2 = \"I enjoy baking cookies on a cold afternoon\"\n",
    "sentence3 = \"Tomorrow we will go hiking in the mountains\"\n",
    "text_corpus = [sentence1, sentence2, sentence3]\n",
    "\n",
    "# Preprocess the text\n",
    "for i in range(len(text_corpus)):\n",
    "    text_corpus[i] = text_corpus[i].lower()\n",
    "    text_corpus[i] = re.sub(r'\\W', ' ', text_corpus[i])\n",
    "    text_corpus[i] = re.sub(r'\\s+', ' ', text_corpus[i])\n",
    "\n",
    "# Calculate word frequencies\n",
    "word_frequency = {}\n",
    "for line in text_corpus:\n",
    "    words = nltk.word_tokenize(line)\n",
    "    for word in words:\n",
    "        if word not in word_frequency:\n",
    "            word_frequency[word] = 1\n",
    "        else:\n",
    "            word_frequency[word] += 1\n",
    "\n",
    "# Select the most frequent words\n",
    "import heapq\n",
    "top_words = heapq.nlargest(8, word_frequency, key=word_frequency.get)\n",
    "\n",
    "print(\"Top Words:\", top_words)\n",
    "\n",
    "# Calculate Term Frequency (TF)\n",
    "term_frequency = {}\n",
    "for word in top_words:\n",
    "    tf_vector = []\n",
    "    for doc in text_corpus:\n",
    "        term_count = 0\n",
    "        for term in nltk.word_tokenize(doc):\n",
    "            if word == term:\n",
    "                term_count += 1\n",
    "        tf_score = term_count / len(nltk.word_tokenize(doc))\n",
    "        tf_vector.append(tf_score)\n",
    "    term_frequency[word] = tf_vector\n",
    "\n",
    "print(\"Term Frequency:\")\n",
    "print(term_frequency)\n",
    "\n",
    "# Calculate Inverse Document Frequency (IDF)\n",
    "inverse_document_frequency = {}\n",
    "for word in top_words:\n",
    "    doc_count = 0\n",
    "    for doc in text_corpus:\n",
    "        if word in nltk.word_tokenize(doc):\n",
    "            doc_count += 1\n",
    "    inverse_document_frequency[word] = np.log(len(text_corpus) / (doc_count))\n",
    "\n",
    "print(\"Inverse Document Frequency:\")\n",
    "print(inverse_document_frequency)\n",
    "\n",
    "# Calculate TF-IDF\n",
    "tfidf_scores = []\n",
    "for word in term_frequency.keys():\n",
    "    tfidf_vector = []\n",
    "    for tf_score in term_frequency[word]:\n",
    "        tfidf_value = tf_score * inverse_document_frequency[word]\n",
    "        tfidf_vector.append(tfidf_value)\n",
    "    tfidf_scores.append(tfidf_vector)\n",
    "\n",
    "print(\"TF-IDF Values:\")\n",
    "print(tfidf_scores)\n"
   ]
  },
  {
   "cell_type": "code",
   "execution_count": null,
   "id": "6a1b3700",
   "metadata": {},
   "outputs": [],
   "source": []
  }
 ],
 "metadata": {
  "kernelspec": {
   "display_name": "Python 3 (ipykernel)",
   "language": "python",
   "name": "python3"
  },
  "language_info": {
   "codemirror_mode": {
    "name": "ipython",
    "version": 3
   },
   "file_extension": ".py",
   "mimetype": "text/x-python",
   "name": "python",
   "nbconvert_exporter": "python",
   "pygments_lexer": "ipython3",
   "version": "3.9.12"
  }
 },
 "nbformat": 4,
 "nbformat_minor": 5
}
