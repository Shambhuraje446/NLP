{
 "cells": [
  {
   "cell_type": "code",
   "execution_count": 13,
   "id": "47d33e81",
   "metadata": {},
   "outputs": [
    {
     "name": "stdout",
     "output_type": "stream",
     "text": [
      "Generated Vocabulary: ['warm', 'baking', 'enjoy', 'afternoon', 'hiking', 'mountain', 'tomorrow', 'cat', 'cook', 'go', 'sleeping', 'couch', 'cold']\n",
      "Text: 'The cat is sleeping on the warm couch'\n",
      "Vector Representation: [1, 0, 0, 0, 0, 0, 0, 1, 0, 0, 1, 1, 0]\n",
      "Text: 'I enjoy baking cookies on a cold afternoon'\n",
      "Vector Representation: [0, 1, 1, 1, 0, 0, 0, 0, 0, 0, 0, 0, 1]\n",
      "Text: 'Tomorrow we will go hiking in the mountains'\n",
      "Vector Representation: [0, 0, 0, 0, 1, 1, 1, 0, 0, 1, 0, 0, 0]\n"
     ]
    },
    {
     "name": "stderr",
     "output_type": "stream",
     "text": [
      "[nltk_data] Downloading package stopwords to\n",
      "[nltk_data]     C:\\Users\\shamb\\AppData\\Roaming\\nltk_data...\n",
      "[nltk_data]   Package stopwords is already up-to-date!\n",
      "[nltk_data] Downloading package wordnet to\n",
      "[nltk_data]     C:\\Users\\shamb\\AppData\\Roaming\\nltk_data...\n",
      "[nltk_data]   Package wordnet is already up-to-date!\n",
      "[nltk_data] Downloading package punkt to\n",
      "[nltk_data]     C:\\Users\\shamb\\AppData\\Roaming\\nltk_data...\n",
      "[nltk_data]   Package punkt is already up-to-date!\n",
      "[nltk_data] Downloading package omw-1.4 to\n",
      "[nltk_data]     C:\\Users\\shamb\\AppData\\Roaming\\nltk_data...\n",
      "[nltk_data]   Package omw-1.4 is already up-to-date!\n"
     ]
    }
   ],
   "source": [
    "import nltk\n",
    "from nltk.corpus import stopwords\n",
    "from nltk.stem import WordNetLemmatizer\n",
    "from nltk.tokenize import RegexpTokenizer\n",
    "from autocorrect import Speller\n",
    "\n",
    "# Download necessary NLTK resources\n",
    "nltk.download('stopwords')\n",
    "nltk.download('wordnet')\n",
    "nltk.download('punkt')\n",
    "nltk.download('omw-1.4')  # Required for WordNet compatibility\n",
    "\n",
    "# Initialize processing tools\n",
    "regex_tokenizer = RegexpTokenizer(r'\\w+')\n",
    "stopword_list = stopwords.words('english')\n",
    "lemmatizer = WordNetLemmatizer()\n",
    "speller = Speller()\n",
    "\n",
    "def create_vocab(sentences):\n",
    "    \"\"\"\n",
    "    Preprocess the sentences and construct a unique vocabulary:\n",
    "    1. Convert text to lowercase.\n",
    "    2. Remove punctuation.\n",
    "    3. Apply lemmatization.\n",
    "    4. Perform spell correction.\n",
    "    5. Exclude stopwords.\n",
    "    \"\"\"\n",
    "    combined_text = \" \".join(sentences)\n",
    "    lower_text = combined_text.lower()\n",
    "    tokens = regex_tokenizer.tokenize(lower_text)\n",
    "    lemmatized_words = [lemmatizer.lemmatize(word) for word in tokens]\n",
    "    filtered_words = [speller(word) for word in lemmatized_words if word not in stopword_list]\n",
    "    unique_vocab = list(set(filtered_words))\n",
    "    return unique_vocab\n",
    "\n",
    "def generate_sentence_vector(text, vocab):\n",
    "    \"\"\"\n",
    "    Convert a given text into a vector representation based on a vocabulary.\n",
    "    \"\"\"\n",
    "    words = nltk.word_tokenize(text.lower())\n",
    "    processed_words = [lemmatizer.lemmatize(speller(word)) for word in words if word not in stopword_list]\n",
    "    return [1 if vocab_word in processed_words else 0 for vocab_word in vocab]\n",
    "\n",
    "# Input text (Updated)\n",
    "text1 = \"The cat is sleeping on the warm couch\"\n",
    "text2 = \"I enjoy baking cookies on a cold afternoon\"\n",
    "text3 = \"Tomorrow we will go hiking in the mountains\"\n",
    "texts = [text1, text2, text3]\n",
    "\n",
    "# Build the vocabulary\n",
    "vocabulary = create_vocab(texts)\n",
    "print(\"Generated Vocabulary:\", vocabulary)\n",
    "\n",
    "# Convert each sentence into its corresponding vector\n",
    "for text in texts:\n",
    "    print(f\"Text: '{text}'\")\n",
    "    print(\"Vector Representation:\", generate_sentence_vector(text, vocabulary))\n"
   ]
  },
  {
   "cell_type": "code",
   "execution_count": null,
   "id": "8114e95a",
   "metadata": {},
   "outputs": [],
   "source": []
  }
 ],
 "metadata": {
  "kernelspec": {
   "display_name": "Python 3 (ipykernel)",
   "language": "python",
   "name": "python3"
  },
  "language_info": {
   "codemirror_mode": {
    "name": "ipython",
    "version": 3
   },
   "file_extension": ".py",
   "mimetype": "text/x-python",
   "name": "python",
   "nbconvert_exporter": "python",
   "pygments_lexer": "ipython3",
   "version": "3.9.12"
  }
 },
 "nbformat": 4,
 "nbformat_minor": 5
}
